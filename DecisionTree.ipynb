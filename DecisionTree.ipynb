{
 "cells": [
  {
   "cell_type": "markdown",
   "metadata": {},
   "source": [
    "# Decision Tree (ต้นไม้ตัดสินใจ) \n",
    "\n",
    "เป็นอัลกอริทึมพื้นฐานที่สำคัญตัวหนึ่งของ ML อยู่ในกลุ่ม Supervised Learning\\\n",
    "เป็นการเรียนรู้จากคุณลักษณะ(Attributes) ของข้อมูล แล้วสร้างผังตัดสินใจคล้ายกับต้นไม้\\\n",
    "เอาไว้ใช้สำหรับการจำแนกหรือแยกแยะ(Classification) ว่าข้อมูลอยู่ในกลุ่มใด\\\n",
    "โดยผลลัพธ์จะมีเพียงสองกลุ่ม หรือมากกว่า 2 กลุ่มก็ได้ โดยกลุ่มดังกล่าวเรียกว่า Class"
   ]
  },
  {
   "cell_type": "raw",
   "metadata": {},
   "source": [
    "Decision Tree อย่างง่าย\n",
    "สร้างระบบคัดแยกผลไม้ ว่าเป็นมะนาว หรือส้ม โดยใช้ขนาดเป็นคุณลักษณะ(Feature) ของผลไม้\n",
    "สมมติว่ามีระบบเซ็นเซอร์ตรวจจับขนาดผลไม้ แล้วส่งมาให้ระบบทำการตัดสินใจหรือแยกแยะว่าเป็นผลไม้อะไร\n",
    "\n",
    "ข้อมูลขนาดผลไม้\n",
    "size: ขนาดผลไม้(ซม.)\n",
    "fruit_name: ชนิดผลไม้ \n",
    "\n",
    "เช่น ขนาด 27 21 22 ซม. เป็น Lemon แต่ถ้ามี 35 39 45 เป็น Orange ฯลฯ\n",
    "\n",
    "เพื่อให้ scikit-learn ทำงานได้อย่างมีประสิทธิภาพ ให้แทนที่ข้อความหรืออักษรของ Class/Target ด้วยตัวเลข และต้องไม่ซ้ำกัน\n",
    "เช่น ใช้ 0 แทน lemon และ 1 แทน orange\n",
    "\n",
    "ดังนั้น ให้ X เก็บข้อมูลขนาด ส่วน y เก็บค่าตัวเลขแทนชื่อผลไม้"
   ]
  },
  {
   "cell_type": "code",
   "execution_count": 1,
   "metadata": {},
   "outputs": [],
   "source": [
    "#เตรียมข้อมูลที่จะนำไป Train (สอน) ให้คอมพิวเตอร์เรียนรู้\n",
    "#[size] ไม่ต้องเรียงขนาด\n",
    "\n",
    "X = [[27],\n",
    "    [35],\n",
    "    [39],\n",
    "    [21],\n",
    "    [22],\n",
    "    [45]]\n",
    "\n",
    "y_names = ['lemon','orange','orange','lemon','lemon','orange']\n",
    "y = [0,1,1,0,0,1]    #Output/Class/Target/Label"
   ]
  },
  {
   "cell_type": "code",
   "execution_count": 2,
   "metadata": {},
   "outputs": [
    {
     "data": {
      "image/png": "[encoded data removed]",
      "text/plain": [
       "<Figure size 288x216 with 1 Axes>"
      ]
     },
     "metadata": {
      "needs_background": "light"
     },
     "output_type": "display_data"
    }
   ],
   "source": [
    "#พล็อตกราฟ  ดูค่าขนาด\n",
    "\n",
    "import matplotlib.pyplot as plt\n",
    "%matplotlib inline\n",
    "plt.figure(figsize=(4,3))\n",
    "\n",
    "plt.xlabel('fruit')\n",
    "plt.ylabel('size')\n",
    "\n",
    "plt.scatter(y_names, X)\n",
    "plt.show()"
   ]
  },
  {
   "cell_type": "code",
   "execution_count": 3,
   "metadata": {},
   "outputs": [
    {
     "data": {
      "text/plain": [
       "DecisionTreeClassifier()"
      ]
     },
     "execution_count": 3,
     "metadata": {},
     "output_type": "execute_result"
    }
   ],
   "source": [
    "#สร้าง Model\n",
    "\n",
    "from sklearn.tree import DecisionTreeClassifier\n",
    "model = DecisionTreeClassifier()\n",
    "\n",
    "model.fit(X, y)     #คอมพิวเตอร์จะเรียนรู้โดยอ้างอิงจากค่า X, y ทีละรายการ"
   ]
  },
  {
   "cell_type": "raw",
   "metadata": {},
   "source": [
    "gครื่องจะเรียนรู้จากข้อมูล แล้วแสดงรายละเอียดค่า Parameter ในการสร้าง Model \n",
    "หากข้อมูลมีไม่มาก เครื่องจะใช้เวลาไม่นาน\n",
    "แต่หากมีข้อมูลมาก อาจใช้เวลาหลายชั่วโมง หรือเป็นวัน ๆ\n",
    "\n",
    "DecisionTreeClassifier(class_weight=None, criterion='gini', max_depth=None,\n",
    "            max_features=None, max_leaf_nodes=None,\n",
    "            min_impurity_decrease=0.0, min_impurity_split=None,\n",
    "            min_samples_leaf=1, min_samples_split=2,\n",
    "            min_weight_fraction_leaf=0.0, presort=False, random_state=None,\n",
    "            splitter='best')"
   ]
  },
  {
   "cell_type": "code",
   "execution_count": 6,
   "metadata": {},
   "outputs": [
    {
     "name": "stdout",
     "output_type": "stream",
     "text": [
      "Result = 0\n"
     ]
    }
   ],
   "source": [
    "#ทำนาย\n",
    "#หลังจากได้ Model ปกติจะต้องประเมิน Model ก่อน แต่ตอนนี้จะข้ามไป\n",
    "#ขั้นตอนการทำงาน คือใส่ input แล้วระบบจะจำแนกแยกแยะว่าเป็นผลไม้อะไร \n",
    "#ตอน train ใช้ตัวแปรใดสอน ตอนทำนายก็ต้องใช้ตัวแปรนั้นเป็น input\n",
    "\n",
    "#กำหนดค่าภายใน [[]] เพื่อทำให้ปเ็นเมทริกซ์ รูปแบบเหมือนกับค่า X ในการ train\n",
    "data = [[25]]                    #ขนาดผลไม้ผลหนึ่ง (New input = 25)\n",
    "y_predict = model.predict(data)  #ทำนาย\n",
    "print('Result =', y_predict[0])  #แสดงผลลัพธ์"
   ]
  },
  {
   "cell_type": "code",
   "execution_count": 7,
   "metadata": {},
   "outputs": [],
   "source": [
    "#ค่า Output บอกว่า ผลไม้ = 0 คือ lemon นั่นเอง"
   ]
  },
  {
   "cell_type": "raw",
   "metadata": {},
   "source": [
    "#หากนำไปใช้กับระบบคัดแยกผลไม้ลงตะกร้า อาจเขียน loop ได้ว่า\n",
    "\n",
    "if (y_predict[0] == 0):\n",
    "    push_to_lemon_basket()\n",
    "else:\n",
    "    push_to_orange_basket()"
   ]
  },
  {
   "cell_type": "code",
   "execution_count": 9,
   "metadata": {},
   "outputs": [],
   "source": [
    "#ให้การแสดงผลกลับมาเป็นชื่อผลไม้ แทนที่ตัวเลข จะได้ดูง่าย ๆ \n",
    "class_names = ['lemon','orange']"
   ]
  },
  {
   "cell_type": "code",
   "execution_count": 10,
   "metadata": {},
   "outputs": [
    {
     "name": "stdout",
     "output_type": "stream",
     "text": [
      "Result = lemon\n"
     ]
    }
   ],
   "source": [
    "#ลองทำนายใหม่\n",
    "data = [[25]]\n",
    "y_predict = model.predict(data)\n",
    "\n",
    "prd = class_names[y_predict[0]]\n",
    "print('Result = {}'.format(prd))"
   ]
  },
  {
   "cell_type": "code",
   "execution_count": 11,
   "metadata": {},
   "outputs": [
    {
     "name": "stdout",
     "output_type": "stream",
     "text": [
      "Result = orange\n"
     ]
    }
   ],
   "source": [
    "#ทดลองค่าอื่น\n",
    "\n",
    "data = [[35]]\n",
    "y_predict = model.predict(data)\n",
    "\n",
    "prd = class_names[y_predict[0]]\n",
    "print('Result = {}'.format(prd))"
   ]
  },
  {
   "cell_type": "code",
   "execution_count": 14,
   "metadata": {},
   "outputs": [
    {
     "name": "stdout",
     "output_type": "stream",
     "text": [
      "Result:\n",
      "orange\n",
      "lemon\n",
      "lemon\n",
      "orange\n"
     ]
    }
   ],
   "source": [
    "#กรณีอยาก input พร้อมกันหลาย ๆ ค่า\n",
    "\n",
    "data = [[32], [25], [21], [38]]\n",
    "y_predict = model.predict(data)\n",
    "\n",
    "print('Result:')\n",
    "for i in y_predict:\n",
    "    print(class_names[i])"
   ]
  },
  {
   "cell_type": "code",
   "execution_count": null,
   "metadata": {},
   "outputs": [],
   "source": [
    "##### การใช้งานในระบบรวม \n",
    "#โครงสร้างโปรแกรม จะมีส่วนที่วนรอบรับ Input และส่วนที่นำ Input ส่งไปทำนาย โค้ดย่อ ๆ มีต่อไปนี้\n",
    "\n",
    "while True:\n",
    "    size = eval(input(\"Size : \"))\n",
    "    data = [size]\n",
    "    y_predict = model.predict([data])\n",
    "    result = class_names[y_predict[0]]\n",
    "    print(result)\n",
    "    if (result == 'lemon'):\n",
    "        print('<--- Push to Lemon Basket')\n",
    "    else:\n",
    "        print('Push to Orange Basket --->')        \n",
    "    \n",
    "print('done')"
   ]
  },
  {
   "cell_type": "code",
   "execution_count": 2,
   "metadata": {},
   "outputs": [
    {
     "data": {
      "text/plain": [
       "DecisionTreeClassifier()"
      ]
     },
     "execution_count": 2,
     "metadata": {},
     "output_type": "execute_result"
    }
   ],
   "source": [
    "#แสดง Tree model\n",
    "\n",
    "#สร้าง model จาก Workshop1\n",
    "\n",
    "X = [[27],\n",
    "    [35],\n",
    "    [39],\n",
    "    [21],\n",
    "    [22],\n",
    "    [45]]\n",
    "\n",
    "y_names = ['lemon','orange','orange','lemon','lemon','orange']\n",
    "y = [0,1,1,0,0,1] \n",
    "\n",
    "from sklearn.tree import DecisionTreeClassifier\n",
    "model = DecisionTreeClassifier()\n",
    "\n",
    "model.fit(X, y)    "
   ]
  },
  {
   "cell_type": "code",
   "execution_count": 3,
   "metadata": {},
   "outputs": [
    {
     "data": {
      "text/plain": [
       "DecisionTreeClassifier()"
      ]
     },
     "execution_count": 3,
     "metadata": {},
     "output_type": "execute_result"
    }
   ],
   "source": [
    "model"
   ]
  },
  {
   "cell_type": "code",
   "execution_count": 5,
   "metadata": {},
   "outputs": [
    {
     "data": {
      "image/png": "[encoded data removed]",
      "text/plain": [
       "<IPython.core.display.Image object>"
      ]
     },
     "execution_count": 5,
     "metadata": {},
     "output_type": "execute_result"
    }
   ],
   "source": [
    "#รันโค้ดสร้างไดอะแกรม Tree จาก Model\n",
    "\n",
    "import pydotplus\n",
    "from sklearn.tree import export_graphviz\n",
    "from IPython.display import Image\n",
    "\n",
    "data_feature_names = ['size']          #ชื่อ features ที่จะปรากฏในแต่ละช่องของไดอะแกรม\n",
    "fruit_types = ['lemon', 'orange']      #ชื่อ class ที่จะคัดแยก\n",
    "\n",
    "#สร้างข้อมูล dot_data จากตัวแปร model (ข้อมูลนี้จะนำไปพล็อตกราฟ)\n",
    "dot_data = export_graphviz(model, out_file=None, \n",
    "                           feature_names=data_feature_names,  \n",
    "                           class_names=fruit_types, # \n",
    "                           filled=True,\n",
    "                           rounded=True)\n",
    "\n",
    "\n",
    "graph = pydotplus.graph_from_dot_data(dot_data)     \n",
    "Image(graph.create_png())                           #แสดงไดอะแกรม\n",
    "#graph.write_png('tree-fruit.png')                  #save ไฟล์ไดอะแกรม"
   ]
  },
  {
   "cell_type": "raw",
   "metadata": {},
   "source": [
    "ความหมายของไดอะแกรม ดังนี้\n",
    "size    <= 31.0    คือ ค่าที่ใช้เป็นเกณฑ์ในการตัดแบ่งช่วง มีทางเลือก 2 ทาง (คล้ายกับ if) เช่น ถ้า size <= 31.0 จะวิ่งไปทาง True(lemon)\n",
    "gini    = 0.5      คือ gini เป็นอัลกอริทึมที่ใช้คำนวณเพื่อเลือกว่าจะให้อะไรเป็นเกณฑ์การแบ่งคัดแยกกลุ่ม (เลือก Feature หรือคุณลักษณะเด่นที่ดีที่สุดมาเป็นตัวคัดแยก)\n",
    "                   ในที่นี้ใช้ size เป็น root ในการแบ่งกลุ่ม ค่า 0.5 คือดัชนี gini \n",
    "                   (gini ค่ามากแสดงว่าข้อมูลมีกลุ่มปะปนกัน ถ้าค่าเป็นศูนย์แสดงว่าข้อมูลเป็นกลุ่มเดียวกันหมด ไม่มีกลุ่มอื่นปะปน หรือในทางเทคนิคเรียกว่า ข้อมูลเป็นกลุ่มเดียวกันทั้งหมด เช่น ข้อมูลเป็นมะนาวทั้งหมด)\n",
    "samples = 6        คือ จำนวนข้อมูล sample ที่นำมา Train ให้กับระบบ คือ 6 ข้อมูล\n",
    "values = [...,...] คือตัวเลขที่แสดงว่าระบบได้แบ่งข้อมูลเป็นฝั่งละเท่าไร เช่น [3, 3] แบ่งข้อมูลเป็นฝั่งละ 3 รายการ คือ size <= 31.0 3 รายการ และ size > 31.0 3 รายการ\n",
    "class = ...        คือ ผลการทำนาย บ่งบอกว่าเป็นอะไร เช่น size <= 31 เป็น lemon ถ้า size > 31 เป็น orange\n",
    "\n",
    "\n",
    "ค่าตัวเลือกสำหรับการแสดงไดอะแกรม\n",
    "    การสั่งเขียน หรือให้แสดงไดอะแกรม export_graphviz(model) สามารถกำหนดรูปแบบได้\n",
    "    feature_names คือ ชื่อตัวแปร ชื่อคอลัมน์ หรือชื่อ feature ที่ใช้เป็นตัว Train ในตัวอย่างนี้คือ ['size'] (ต้องกำหนดข้อมูลเป็นลิสต์ แม้มีเพียงตัวเดียวก็ตาม)\n",
    "    class_names   คือ ชื่อ Class/Target/Output/Label ชื่อกลุ่ม ในตัวอย่างนี้คือ ['lemon', 'orange'] (ต้องกำหนดข้อมูลเป็นลิสต์)\n",
    "    filled        กำหนดให้ระบายสีพื้นหรือไม่ (True หรือ False)\n",
    "    rounded       กำหนดให้เขียนกรอบแบบมนโค้งหรือไม่ (True หรือ False)  "
   ]
  },
  {
   "cell_type": "raw",
   "metadata": {},
   "source": [
    "ทดลองอัปเดต Model\n",
    "เพื่อให้เห็นวงจร ML ชัดเจนขึ้น ทดลองอัปเดต Model ดังนี้\n",
    "\n",
    "1. เปลี่ยนค่าข้อมูลที่นำมา Train ให้กับระบบใหม่ (เปลี่ยนค่า X) โดยมีหลักการคือแบ่งตัวเลขออกเป็น 2 กลุ่ม (เนื่องจาก Model ของเราต้องการแยกของ 2 สิ่งอ้างอิงจากค่า size)\n",
    "   เช่น ตั้งค่ากลุ่มแรก 60-70 และกลุ่มที่สอง 85-100 ฯลฯ\n",
    "2. รัน Train ใหม่ (จะได้ Model ใหม่)\n",
    "3. ลองทำนาย โดยส่งค่า size เข้าไปทดสอบ ให้อยู่ในช่วงของค่ากลุ่มใหม่ เช่น 61 90 84 ...\n",
    "\n",
    "จะพบว่าผลลัพธ์การทำนายเปลี่ยนไป โดยขณะนี้การตัดสินใจของระบบจะเป็นไปตาม Model ตัวใหม่ เนื่องจากได้ Train ด้วยข้อมูลใหม่"
   ]
  },
  {
   "cell_type": "code",
   "execution_count": 6,
   "metadata": {},
   "outputs": [
    {
     "data": {
      "text/plain": [
       "DecisionTreeClassifier()"
      ]
     },
     "execution_count": 6,
     "metadata": {},
     "output_type": "execute_result"
    }
   ],
   "source": [
    "#ทดลองอัปเดต Model\n",
    "\n",
    "X = [[65],[78],[90],[61],[84],[62],[69],[82],[89],[63]]\n",
    "y_names = ['lemon','orange','orange','lemon','orange','lemon','lemon','orange','orange','lemon']\n",
    "y = [0,1,1,0,1,0,0,1,1,0]\n",
    "\n",
    "from sklearn.tree import DecisionTreeClassifier\n",
    "model = DecisionTreeClassifier()\n",
    "\n",
    "model.fit(X, y)    "
   ]
  },
  {
   "cell_type": "code",
   "execution_count": 7,
   "metadata": {},
   "outputs": [
    {
     "data": {
      "image/png": "[encoded data removed]",
      "text/plain": [
       "<IPython.core.display.Image object>"
      ]
     },
     "execution_count": 7,
     "metadata": {},
     "output_type": "execute_result"
    }
   ],
   "source": [
    "import pydotplus\n",
    "from sklearn.tree import export_graphviz\n",
    "from IPython.display import Image\n",
    "\n",
    "data_feature_names = ['size']          #ชื่อ features ที่จะปรากฏในแต่ละช่องของไดอะแกรม\n",
    "fruit_types = ['lemon', 'orange']      #ชื่อ class ที่จะคัดแยก\n",
    "\n",
    "#สร้างข้อมูล dot_data จากตัวแปร model (ข้อมูลนี้จะนำไปพล็อตกราฟ)\n",
    "dot_data = export_graphviz(model, out_file=None, \n",
    "                           feature_names=data_feature_names,  \n",
    "                           class_names=fruit_types, # \n",
    "                           filled=True,\n",
    "                           rounded=True)\n",
    "\n",
    "\n",
    "graph = pydotplus.graph_from_dot_data(dot_data)     \n",
    "Image(graph.create_png())                           #แสดงไดอะแกรม"
   ]
  },
  {
   "cell_type": "raw",
   "metadata": {},
   "source": [
    "เพิ่ม Class\n",
    "    Workshop ที่เป็นระบบที่ให้แยกแยะของ 2 สิ่ง คือมะนาวและส้ม ซึ่งในทาง ML ถือว่ามีเพียง 2 Class\n",
    "    กรณีที่ต้องการเพิ่มขีดความสามารถให้แยกแยะ 3 สิ่งคือ มะนาว ส้ม(เขียวหวาน) และส้มโอ(Pomelo) เท่ากับว่ามี 3 Class\n",
    "    ข้อมูลที่ต้องนำมา Train ก็จะต้องมี 3 Class ด้วย"
   ]
  },
  {
   "cell_type": "code",
   "execution_count": 8,
   "metadata": {},
   "outputs": [
    {
     "data": {
      "image/png": "[encoded data removed]",
      "text/plain": [
       "<Figure size 432x288 with 1 Axes>"
      ]
     },
     "metadata": {
      "needs_background": "light"
     },
     "output_type": "display_data"
    }
   ],
   "source": [
    "#สร้างข้อมูล\n",
    "\n",
    "X = [[27],[35],[39],[21],[22],[45],[102],[110],[120]]\n",
    "y_names = ['lemon','orange','orange','lemon','lemon','orange','pomelo','pomelo','pomelo']\n",
    "y = [0,1,1,0,0,1,2,2,2]\n",
    "\n",
    "#พล็อตกราฟดูกลุ่มข้อมูล\n",
    "import matplotlib.pyplot as plt\n",
    "%matplotlib inline\n",
    "plt.xlabel('fruit')\n",
    "plt.ylabel('size')\n",
    "plt.scatter(y_names, X)\n",
    "plt.show()"
   ]
  },
  {
   "cell_type": "code",
   "execution_count": 9,
   "metadata": {},
   "outputs": [
    {
     "data": {
      "text/plain": [
       "DecisionTreeClassifier()"
      ]
     },
     "execution_count": 9,
     "metadata": {},
     "output_type": "execute_result"
    }
   ],
   "source": [
    "#จะเห็นว่าข้อมูลแบ่งออกเป็น 3 กลุ่ม ช่วงตัดอยู่ที่ประมาณ 31 และ 80 ฯลฯ (ถ้าเขียน if ก็จะต้องมี 2-3 เงื่อนไข ยิ่ง Classมาก เงื่อนไขก็มาก)\n",
    "\n",
    "#นำข้อมูลใหม่มา Train สร้าง Model\n",
    "from sklearn.tree import DecisionTreeClassifier\n",
    "model = DecisionTreeClassifier()\n",
    "\n",
    "model.fit(X, y)    "
   ]
  },
  {
   "cell_type": "code",
   "execution_count": 14,
   "metadata": {},
   "outputs": [
    {
     "name": "stdout",
     "output_type": "stream",
     "text": [
      "Result : lemon\n"
     ]
    }
   ],
   "source": [
    "class_names = ['lemon','orange', 'pomelo']\n",
    "\n",
    "data = [[25]]                       #ขนาดที่จะให้ระบบแยกแยะว่าเป็นอะไร\n",
    "y_predict = model.predict(data)\n",
    "\n",
    "prd = class_names[y_predict[0]]\n",
    "print('Result : {}'. format(prd))"
   ]
  },
  {
   "cell_type": "code",
   "execution_count": 11,
   "metadata": {},
   "outputs": [
    {
     "name": "stdout",
     "output_type": "stream",
     "text": [
      "Result : orange\n"
     ]
    }
   ],
   "source": [
    "data = [[43]]\n",
    "y_predict = model.predict(data)\n",
    "\n",
    "prd = class_names[y_predict[0]]\n",
    "print('Result : {}'. format(prd))"
   ]
  },
  {
   "cell_type": "code",
   "execution_count": 15,
   "metadata": {},
   "outputs": [
    {
     "name": "stdout",
     "output_type": "stream",
     "text": [
      "Result : pomelo\n"
     ]
    }
   ],
   "source": [
    "data = [[104]]\n",
    "y_predict = model.predict(data)\n",
    "\n",
    "prd = class_names[y_predict[0]]\n",
    "print('Result : {}'. format(prd))"
   ]
  },
  {
   "cell_type": "code",
   "execution_count": 16,
   "metadata": {},
   "outputs": [
    {
     "data": {
      "image/png": "[encoded data removed]",
      "text/plain": [
       "<IPython.core.display.Image object>"
      ]
     },
     "execution_count": 16,
     "metadata": {},
     "output_type": "execute_result"
    }
   ],
   "source": [
    "#สร้าง diagram\n",
    "data_feature_names = ['size']\n",
    "fruit_types = ['lemon','orange','pomelo'] \n",
    "\n",
    "import pydotplus\n",
    "\n",
    "from sklearn.tree import export_graphviz\n",
    "from IPython.display import Image\n",
    "\n",
    "dot_data = export_graphviz(model, out_file=None, \n",
    "                           feature_names=data_feature_names,  \n",
    "                           class_names=fruit_types, # \n",
    "                           filled=True,\n",
    "                           rounded=True)\n",
    "\n",
    "\n",
    "graph = pydotplus.graph_from_dot_data(dot_data)  \n",
    "Image(graph.create_png())"
   ]
  },
  {
   "cell_type": "raw",
   "metadata": {},
   "source": [
    "การเข้ารหัส (Label Encoding)\n",
    "    ข้อมูลที่เราเก็บมาได้หรือได้มาจากแหล่งอื่น โดยทั่วไปจะประกอบไปด้วยตัวเลขและข้อความ เช่น 25.8 36 lemon orange ฯลฯ\n",
    "    แต่ข้อมูลที่นำมา Train ให้กับระบบ (ป้อนเข้าสู่ .fit) จะใช้ตัวเลขเป็นหลัก ดังตัวอย่างที่ผ่าน ๆ มา\n",
    "    การเปลี่ยนแปลงข้อความเป็นตัวเลข เรียกว่าการเข้ารหัส \n",
    "\n",
    "จาก Workshop ที่ผ่านมา เราแปลงเองแล้วเขียนโค้ดลงไป ถ้ามีข้อมูลเยอะ การทำแบบนี้จะเสียเวลาและโอกาสผิดพลาดสูง \n",
    "ดังนั้น เราควรใช้ฟังก์ชันเพื่อแปลงหรือเข้ารหัส ซึ่งมี 2 วิธีคือ\n",
    "    Pandas ใช้ factorize\n",
    "    Scikit-learn ใช้ LabelEncoder"
   ]
  },
  {
   "cell_type": "code",
   "execution_count": 17,
   "metadata": {},
   "outputs": [
    {
     "data": {
      "text/plain": [
       "array([0, 1, 1, 0, 0, 1, 2, 2, 2], dtype=int64)"
      ]
     },
     "execution_count": 17,
     "metadata": {},
     "output_type": "execute_result"
    }
   ],
   "source": [
    "#ใช้ Scikit-learn LabelEncoder\n",
    "\n",
    "from sklearn.preprocessing import LabelEncoder\n",
    "y_le = LabelEncoder()\n",
    "y = y_le.fit_transform(y_names)\n",
    "y"
   ]
  },
  {
   "cell_type": "code",
   "execution_count": 18,
   "metadata": {},
   "outputs": [
    {
     "data": {
      "text/plain": [
       "['lemon', 'orange', 'pomelo']"
      ]
     },
     "execution_count": 18,
     "metadata": {},
     "output_type": "execute_result"
    }
   ],
   "source": [
    "#กรณีมี Class จำนวนมาก ต้องการดูว่า Class ทั้งหมด มีอะไรบ้าง ใช้โค้ดดังนี้\n",
    "class_names = list(y_le.classes_)\n",
    "class_names"
   ]
  },
  {
   "cell_type": "code",
   "execution_count": 19,
   "metadata": {},
   "outputs": [
    {
     "name": "stdout",
     "output_type": "stream",
     "text": [
      "all class: ['Pamelo', 'lemon', 'orange', 'pamelo']\n",
      "Result: size [125] -> Pamelo\n"
     ]
    }
   ],
   "source": [
    "from sklearn.tree import DecisionTreeClassifier\n",
    "from sklearn.preprocessing import LabelEncoder\n",
    "\n",
    "X = [[27],                                                              \n",
    "     [35],                                                              \n",
    "     [39],                                                              \n",
    "     [21],                                                              \n",
    "     [22],                                                                   \n",
    "     [45],\n",
    "     [102],\n",
    "     [110],\n",
    "     [120],\n",
    "    ]                                                              \n",
    "\n",
    "y_names = ['lemon', 'orange', 'orange', 'lemon', 'lemon', 'orange', 'pamelo', 'pamelo', 'Pamelo']\n",
    "\n",
    "# y = [0, 1, 1, 0, 0, 1, 2, 2, 2]   #ไม่ต้องมีแล้ว เนื่องจากใช้ label encoder แทน\n",
    "y_le = LabelEncoder()\n",
    "\n",
    "y = y_le.fit_transform(y_names)\n",
    "\n",
    "class_names = list(y_le.classes_)  # class names หรือชนิดผลไม้\n",
    "print('all class: {}'. format(class_names))\n",
    "\n",
    "model = DecisionTreeClassifier()\n",
    "model.fit(X, y)\n",
    "\n",
    "data = [[125]] # ทดสอบการทำนาย\n",
    "y_predict = model.predict(data)\n",
    "\n",
    "prd = class_names[y_predict[0]]\n",
    "print('Result: size {} -> {}'. format(data[0],prd))"
   ]
  },
  {
   "cell_type": "code",
   "execution_count": 20,
   "metadata": {},
   "outputs": [
    {
     "data": {
      "image/png": "[encoded data removed]",
      "text/plain": [
       "<IPython.core.display.Image object>"
      ]
     },
     "execution_count": 20,
     "metadata": {},
     "output_type": "execute_result"
    }
   ],
   "source": [
    "#แสดง Diagram Tree\n",
    "data_feature_names = ['size']\n",
    "fruit_types = class_names                                             #ใช้ค่าจากโค้ด (ไม่ต้องกำหนดเองแล้ว)\n",
    "\n",
    "import pydotplus\n",
    "from sklearn.tree import export_graphviz\n",
    "from IPython.display import Image\n",
    "\n",
    "dot_data = export_graphviz(model, out_file=None, \n",
    "                           feature_names=data_feature_names,  \n",
    "                           class_names=fruit_types, # \n",
    "                           filled=True,\n",
    "                           rounded=True)\n",
    "\n",
    "\n",
    "graph = pydotplus.graph_from_dot_data(dot_data)  \n",
    "Image(graph.create_png())"
   ]
  },
  {
   "cell_type": "code",
   "execution_count": 22,
   "metadata": {},
   "outputs": [
    {
     "data": {
      "text/html": [
       "<div>\n",
       "<style scoped>\n",
       "    .dataframe tbody tr th:only-of-type {\n",
       "        vertical-align: middle;\n",
       "    }\n",
       "\n",
       "    .dataframe tbody tr th {\n",
       "        vertical-align: top;\n",
       "    }\n",
       "\n",
       "    .dataframe thead th {\n",
       "        text-align: right;\n",
       "    }\n",
       "</style>\n",
       "<table border=\"1\" class=\"dataframe\">\n",
       "  <thead>\n",
       "    <tr style=\"text-align: right;\">\n",
       "      <th></th>\n",
       "      <th>outlook</th>\n",
       "      <th>temp</th>\n",
       "      <th>humidity</th>\n",
       "      <th>windy</th>\n",
       "      <th>play</th>\n",
       "    </tr>\n",
       "  </thead>\n",
       "  <tbody>\n",
       "    <tr>\n",
       "      <th>0</th>\n",
       "      <td>sunny</td>\n",
       "      <td>hot</td>\n",
       "      <td>high</td>\n",
       "      <td>False</td>\n",
       "      <td>no</td>\n",
       "    </tr>\n",
       "    <tr>\n",
       "      <th>1</th>\n",
       "      <td>sunny</td>\n",
       "      <td>hot</td>\n",
       "      <td>high</td>\n",
       "      <td>True</td>\n",
       "      <td>no</td>\n",
       "    </tr>\n",
       "    <tr>\n",
       "      <th>2</th>\n",
       "      <td>overcast</td>\n",
       "      <td>hot</td>\n",
       "      <td>high</td>\n",
       "      <td>False</td>\n",
       "      <td>yes</td>\n",
       "    </tr>\n",
       "    <tr>\n",
       "      <th>3</th>\n",
       "      <td>rainy</td>\n",
       "      <td>mild</td>\n",
       "      <td>high</td>\n",
       "      <td>False</td>\n",
       "      <td>yes</td>\n",
       "    </tr>\n",
       "    <tr>\n",
       "      <th>4</th>\n",
       "      <td>rainy</td>\n",
       "      <td>cool</td>\n",
       "      <td>normal</td>\n",
       "      <td>False</td>\n",
       "      <td>yes</td>\n",
       "    </tr>\n",
       "  </tbody>\n",
       "</table>\n",
       "</div>"
      ],
      "text/plain": [
       "    outlook  temp humidity  windy play\n",
       "0     sunny   hot     high  False   no\n",
       "1     sunny   hot     high   True   no\n",
       "2  overcast   hot     high  False  yes\n",
       "3     rainy  mild     high  False  yes\n",
       "4     rainy  cool   normal  False  yes"
      ]
     },
     "execution_count": 22,
     "metadata": {},
     "output_type": "execute_result"
    }
   ],
   "source": [
    "#Workshop ตัดสินใจจะเล่นเทนนิสหรือไม่\n",
    "\n",
    "#มีหลายปัจจัย ขึ้นอยู่กับสภาอากาศ โดยเก็บข้อมูลสภาพอากาศในแต่ละวันและผลการตัดสินใจว่าจะเล่นหรือไม่เล่นเทนนิส รวม 14 วัน (ใช้สำหรับศึกษา Decision Tree เท่านั้น)\n",
    "\n",
    "#Features ประกอบการตัดสินใจ\n",
    "#outlook:สภาพแดด sunny:แดดจ้า overcast:เมฆมากมืดครึ้ม rainy:มีฝน\n",
    "#temp:สภาพอากาศ hot:ร้อน cool:เย็น mild:กลางๆ\n",
    "#humidity:ความชื้น high normal\n",
    "#windy:ลม True:มีลมโกรก False:ลมไม่แรง\n",
    "\n",
    "#ผลการตัดสินใจ (Class)\n",
    "#play: เป็น Class ตัดสินใจว่าจะเล่นเทนนิสหรือไม่ มี 2 Class (Yes/No) เช่น ถ้าแดดจ้า อากาศร้อน ความชื้นสูง ลมไม่แรง ผลการตัดสินใจ play=no\n",
    "\n",
    "\n",
    "\n",
    "#เตรียมข้อมูล\n",
    "import pandas as pd\n",
    "df = pd.read_csv('data/playtennis.csv')\n",
    "df.head()"
   ]
  },
  {
   "cell_type": "code",
   "execution_count": 23,
   "metadata": {},
   "outputs": [
    {
     "data": {
      "text/plain": [
       "outlook     object\n",
       "temp        object\n",
       "humidity    object\n",
       "windy         bool\n",
       "play        object\n",
       "dtype: object"
      ]
     },
     "execution_count": 23,
     "metadata": {},
     "output_type": "execute_result"
    }
   ],
   "source": [
    "df.dtypes"
   ]
  },
  {
   "cell_type": "code",
   "execution_count": 24,
   "metadata": {},
   "outputs": [
    {
     "data": {
      "text/plain": [
       "array(['no', 'yes'], dtype=object)"
      ]
     },
     "execution_count": 24,
     "metadata": {},
     "output_type": "execute_result"
    }
   ],
   "source": [
    "df.play.unique()    #ดูข้อมูลที่ใช้เป็น class ว่ามีกี่ class"
   ]
  },
  {
   "cell_type": "code",
   "execution_count": 25,
   "metadata": {},
   "outputs": [
    {
     "data": {
      "text/html": [
       "<div>\n",
       "<style scoped>\n",
       "    .dataframe tbody tr th:only-of-type {\n",
       "        vertical-align: middle;\n",
       "    }\n",
       "\n",
       "    .dataframe tbody tr th {\n",
       "        vertical-align: top;\n",
       "    }\n",
       "\n",
       "    .dataframe thead th {\n",
       "        text-align: right;\n",
       "    }\n",
       "</style>\n",
       "<table border=\"1\" class=\"dataframe\">\n",
       "  <thead>\n",
       "    <tr style=\"text-align: right;\">\n",
       "      <th></th>\n",
       "      <th>outlook</th>\n",
       "      <th>temp</th>\n",
       "      <th>humidity</th>\n",
       "      <th>windy</th>\n",
       "    </tr>\n",
       "    <tr>\n",
       "      <th>play</th>\n",
       "      <th></th>\n",
       "      <th></th>\n",
       "      <th></th>\n",
       "      <th></th>\n",
       "    </tr>\n",
       "  </thead>\n",
       "  <tbody>\n",
       "    <tr>\n",
       "      <th>no</th>\n",
       "      <td>9</td>\n",
       "      <td>9</td>\n",
       "      <td>9</td>\n",
       "      <td>9</td>\n",
       "    </tr>\n",
       "    <tr>\n",
       "      <th>yes</th>\n",
       "      <td>11</td>\n",
       "      <td>11</td>\n",
       "      <td>11</td>\n",
       "      <td>11</td>\n",
       "    </tr>\n",
       "  </tbody>\n",
       "</table>\n",
       "</div>"
      ],
      "text/plain": [
       "      outlook  temp  humidity  windy\n",
       "play                                \n",
       "no          9     9         9      9\n",
       "yes        11    11        11     11"
      ]
     },
     "execution_count": 25,
     "metadata": {},
     "output_type": "execute_result"
    }
   ],
   "source": [
    "df.groupby('play').count()   #นับจำนวนว่าแต่ละ class มีกี่ข้อมูล"
   ]
  },
  {
   "cell_type": "code",
   "execution_count": 26,
   "metadata": {},
   "outputs": [
    {
     "data": {
      "text/plain": [
       "outlook     0\n",
       "temp        0\n",
       "humidity    0\n",
       "windy       0\n",
       "play        0\n",
       "dtype: int64"
      ]
     },
     "execution_count": 26,
     "metadata": {},
     "output_type": "execute_result"
    }
   ],
   "source": [
    "df.isnull().sum()"
   ]
  },
  {
   "cell_type": "code",
   "execution_count": 27,
   "metadata": {},
   "outputs": [],
   "source": [
    "#(ค่า -1 หมายถึงตัดคอลัมน์ท้าย (play) ทิ้งไป เนื่องจาก play เป็น Class ของ output ผลลัพธ์ ดังนั้นจะแยกเอาไปไว้ใน y ต่างหาก)\n",
    "X = df.iloc[: , :-1]     #หรือ X = df.drop('play', axis=1) ก็ได้\n",
    "y = df.play"
   ]
  },
  {
   "cell_type": "code",
   "execution_count": 28,
   "metadata": {},
   "outputs": [
    {
     "data": {
      "text/html": [
       "<div>\n",
       "<style scoped>\n",
       "    .dataframe tbody tr th:only-of-type {\n",
       "        vertical-align: middle;\n",
       "    }\n",
       "\n",
       "    .dataframe tbody tr th {\n",
       "        vertical-align: top;\n",
       "    }\n",
       "\n",
       "    .dataframe thead th {\n",
       "        text-align: right;\n",
       "    }\n",
       "</style>\n",
       "<table border=\"1\" class=\"dataframe\">\n",
       "  <thead>\n",
       "    <tr style=\"text-align: right;\">\n",
       "      <th></th>\n",
       "      <th>outlook</th>\n",
       "      <th>temp</th>\n",
       "      <th>humidity</th>\n",
       "      <th>windy</th>\n",
       "    </tr>\n",
       "  </thead>\n",
       "  <tbody>\n",
       "    <tr>\n",
       "      <th>0</th>\n",
       "      <td>sunny</td>\n",
       "      <td>hot</td>\n",
       "      <td>high</td>\n",
       "      <td>False</td>\n",
       "    </tr>\n",
       "    <tr>\n",
       "      <th>1</th>\n",
       "      <td>sunny</td>\n",
       "      <td>hot</td>\n",
       "      <td>high</td>\n",
       "      <td>True</td>\n",
       "    </tr>\n",
       "    <tr>\n",
       "      <th>2</th>\n",
       "      <td>overcast</td>\n",
       "      <td>hot</td>\n",
       "      <td>high</td>\n",
       "      <td>False</td>\n",
       "    </tr>\n",
       "    <tr>\n",
       "      <th>3</th>\n",
       "      <td>rainy</td>\n",
       "      <td>mild</td>\n",
       "      <td>high</td>\n",
       "      <td>False</td>\n",
       "    </tr>\n",
       "    <tr>\n",
       "      <th>4</th>\n",
       "      <td>rainy</td>\n",
       "      <td>cool</td>\n",
       "      <td>normal</td>\n",
       "      <td>False</td>\n",
       "    </tr>\n",
       "    <tr>\n",
       "      <th>5</th>\n",
       "      <td>rainy</td>\n",
       "      <td>cool</td>\n",
       "      <td>normal</td>\n",
       "      <td>True</td>\n",
       "    </tr>\n",
       "    <tr>\n",
       "      <th>6</th>\n",
       "      <td>overcast</td>\n",
       "      <td>cool</td>\n",
       "      <td>normal</td>\n",
       "      <td>True</td>\n",
       "    </tr>\n",
       "    <tr>\n",
       "      <th>7</th>\n",
       "      <td>sunny</td>\n",
       "      <td>mild</td>\n",
       "      <td>high</td>\n",
       "      <td>False</td>\n",
       "    </tr>\n",
       "    <tr>\n",
       "      <th>8</th>\n",
       "      <td>sunny</td>\n",
       "      <td>cool</td>\n",
       "      <td>normal</td>\n",
       "      <td>False</td>\n",
       "    </tr>\n",
       "    <tr>\n",
       "      <th>9</th>\n",
       "      <td>rainy</td>\n",
       "      <td>mild</td>\n",
       "      <td>normal</td>\n",
       "      <td>False</td>\n",
       "    </tr>\n",
       "    <tr>\n",
       "      <th>10</th>\n",
       "      <td>sunny</td>\n",
       "      <td>mild</td>\n",
       "      <td>normal</td>\n",
       "      <td>True</td>\n",
       "    </tr>\n",
       "    <tr>\n",
       "      <th>11</th>\n",
       "      <td>overcast</td>\n",
       "      <td>mild</td>\n",
       "      <td>high</td>\n",
       "      <td>True</td>\n",
       "    </tr>\n",
       "    <tr>\n",
       "      <th>12</th>\n",
       "      <td>overcast</td>\n",
       "      <td>hot</td>\n",
       "      <td>normal</td>\n",
       "      <td>False</td>\n",
       "    </tr>\n",
       "    <tr>\n",
       "      <th>13</th>\n",
       "      <td>rainy</td>\n",
       "      <td>mild</td>\n",
       "      <td>high</td>\n",
       "      <td>True</td>\n",
       "    </tr>\n",
       "    <tr>\n",
       "      <th>14</th>\n",
       "      <td>overcast</td>\n",
       "      <td>hot</td>\n",
       "      <td>high</td>\n",
       "      <td>False</td>\n",
       "    </tr>\n",
       "    <tr>\n",
       "      <th>15</th>\n",
       "      <td>rainy</td>\n",
       "      <td>mild</td>\n",
       "      <td>high</td>\n",
       "      <td>False</td>\n",
       "    </tr>\n",
       "    <tr>\n",
       "      <th>16</th>\n",
       "      <td>sunny</td>\n",
       "      <td>mild</td>\n",
       "      <td>high</td>\n",
       "      <td>False</td>\n",
       "    </tr>\n",
       "    <tr>\n",
       "      <th>17</th>\n",
       "      <td>rainy</td>\n",
       "      <td>cool</td>\n",
       "      <td>normal</td>\n",
       "      <td>True</td>\n",
       "    </tr>\n",
       "    <tr>\n",
       "      <th>18</th>\n",
       "      <td>sunny</td>\n",
       "      <td>hot</td>\n",
       "      <td>high</td>\n",
       "      <td>False</td>\n",
       "    </tr>\n",
       "    <tr>\n",
       "      <th>19</th>\n",
       "      <td>sunny</td>\n",
       "      <td>hot</td>\n",
       "      <td>high</td>\n",
       "      <td>True</td>\n",
       "    </tr>\n",
       "  </tbody>\n",
       "</table>\n",
       "</div>"
      ],
      "text/plain": [
       "     outlook  temp humidity  windy\n",
       "0      sunny   hot     high  False\n",
       "1      sunny   hot     high   True\n",
       "2   overcast   hot     high  False\n",
       "3      rainy  mild     high  False\n",
       "4      rainy  cool   normal  False\n",
       "5      rainy  cool   normal   True\n",
       "6   overcast  cool   normal   True\n",
       "7      sunny  mild     high  False\n",
       "8      sunny  cool   normal  False\n",
       "9      rainy  mild   normal  False\n",
       "10     sunny  mild   normal   True\n",
       "11  overcast  mild     high   True\n",
       "12  overcast   hot   normal  False\n",
       "13     rainy  mild     high   True\n",
       "14  overcast   hot     high  False\n",
       "15     rainy  mild     high  False\n",
       "16     sunny  mild     high  False\n",
       "17     rainy  cool   normal   True\n",
       "18     sunny   hot     high  False\n",
       "19     sunny   hot     high   True"
      ]
     },
     "execution_count": 28,
     "metadata": {},
     "output_type": "execute_result"
    }
   ],
   "source": [
    "X"
   ]
  },
  {
   "cell_type": "code",
   "execution_count": 29,
   "metadata": {},
   "outputs": [
    {
     "data": {
      "text/plain": [
       "0      no\n",
       "1      no\n",
       "2     yes\n",
       "3     yes\n",
       "4     yes\n",
       "5      no\n",
       "6     yes\n",
       "7      no\n",
       "8     yes\n",
       "9     yes\n",
       "10    yes\n",
       "11    yes\n",
       "12    yes\n",
       "13     no\n",
       "14    yes\n",
       "15    yes\n",
       "16     no\n",
       "17     no\n",
       "18     no\n",
       "19     no\n",
       "Name: play, dtype: object"
      ]
     },
     "execution_count": 29,
     "metadata": {},
     "output_type": "execute_result"
    }
   ],
   "source": [
    "y"
   ]
  },
  {
   "cell_type": "code",
   "execution_count": 30,
   "metadata": {},
   "outputs": [
    {
     "ename": "ValueError",
     "evalue": "could not convert string to float: 'sunny'",
     "output_type": "error",
     "traceback": [
      "\u001b[1;31m---------------------------------------------------------------------------\u001b[0m",
      "\u001b[1;31mValueError\u001b[0m                                Traceback (most recent call last)",
      "\u001b[1;32m<ipython-input-30-c54121cedec3>\u001b[0m in \u001b[0;36m<module>\u001b[1;34m\u001b[0m\n\u001b[0;32m      4\u001b[0m \u001b[1;33m\u001b[0m\u001b[0m\n\u001b[0;32m      5\u001b[0m \u001b[0mmodel\u001b[0m \u001b[1;33m=\u001b[0m \u001b[0mDecisionTreeClassifier\u001b[0m\u001b[1;33m(\u001b[0m\u001b[1;33m)\u001b[0m\u001b[1;33m\u001b[0m\u001b[1;33m\u001b[0m\u001b[0m\n\u001b[1;32m----> 6\u001b[1;33m \u001b[0mmodel\u001b[0m\u001b[1;33m.\u001b[0m\u001b[0mfit\u001b[0m\u001b[1;33m(\u001b[0m\u001b[0mX\u001b[0m\u001b[1;33m,\u001b[0m \u001b[0my\u001b[0m\u001b[1;33m)\u001b[0m\u001b[1;33m\u001b[0m\u001b[1;33m\u001b[0m\u001b[0m\n\u001b[0m\u001b[0;32m      7\u001b[0m \u001b[1;33m\u001b[0m\u001b[0m\n",
      "\u001b[1;32mE:\\Anaconda\\lib\\site-packages\\sklearn\\tree\\_classes.py\u001b[0m in \u001b[0;36mfit\u001b[1;34m(self, X, y, sample_weight, check_input, X_idx_sorted)\u001b[0m\n\u001b[0;32m    888\u001b[0m         \"\"\"\n\u001b[0;32m    889\u001b[0m \u001b[1;33m\u001b[0m\u001b[0m\n\u001b[1;32m--> 890\u001b[1;33m         super().fit(\n\u001b[0m\u001b[0;32m    891\u001b[0m             \u001b[0mX\u001b[0m\u001b[1;33m,\u001b[0m \u001b[0my\u001b[0m\u001b[1;33m,\u001b[0m\u001b[1;33m\u001b[0m\u001b[1;33m\u001b[0m\u001b[0m\n\u001b[0;32m    892\u001b[0m             \u001b[0msample_weight\u001b[0m\u001b[1;33m=\u001b[0m\u001b[0msample_weight\u001b[0m\u001b[1;33m,\u001b[0m\u001b[1;33m\u001b[0m\u001b[1;33m\u001b[0m\u001b[0m\n",
      "\u001b[1;32mE:\\Anaconda\\lib\\site-packages\\sklearn\\tree\\_classes.py\u001b[0m in \u001b[0;36mfit\u001b[1;34m(self, X, y, sample_weight, check_input, X_idx_sorted)\u001b[0m\n\u001b[0;32m    154\u001b[0m             \u001b[0mcheck_X_params\u001b[0m \u001b[1;33m=\u001b[0m \u001b[0mdict\u001b[0m\u001b[1;33m(\u001b[0m\u001b[0mdtype\u001b[0m\u001b[1;33m=\u001b[0m\u001b[0mDTYPE\u001b[0m\u001b[1;33m,\u001b[0m \u001b[0maccept_sparse\u001b[0m\u001b[1;33m=\u001b[0m\u001b[1;34m\"csc\"\u001b[0m\u001b[1;33m)\u001b[0m\u001b[1;33m\u001b[0m\u001b[1;33m\u001b[0m\u001b[0m\n\u001b[0;32m    155\u001b[0m             \u001b[0mcheck_y_params\u001b[0m \u001b[1;33m=\u001b[0m \u001b[0mdict\u001b[0m\u001b[1;33m(\u001b[0m\u001b[0mensure_2d\u001b[0m\u001b[1;33m=\u001b[0m\u001b[1;32mFalse\u001b[0m\u001b[1;33m,\u001b[0m \u001b[0mdtype\u001b[0m\u001b[1;33m=\u001b[0m\u001b[1;32mNone\u001b[0m\u001b[1;33m)\u001b[0m\u001b[1;33m\u001b[0m\u001b[1;33m\u001b[0m\u001b[0m\n\u001b[1;32m--> 156\u001b[1;33m             X, y = self._validate_data(X, y,\n\u001b[0m\u001b[0;32m    157\u001b[0m                                        validate_separately=(check_X_params,\n\u001b[0;32m    158\u001b[0m                                                             check_y_params))\n",
      "\u001b[1;32mE:\\Anaconda\\lib\\site-packages\\sklearn\\base.py\u001b[0m in \u001b[0;36m_validate_data\u001b[1;34m(self, X, y, reset, validate_separately, **check_params)\u001b[0m\n\u001b[0;32m    427\u001b[0m                 \u001b[1;31m# :(\u001b[0m\u001b[1;33m\u001b[0m\u001b[1;33m\u001b[0m\u001b[1;33m\u001b[0m\u001b[0m\n\u001b[0;32m    428\u001b[0m                 \u001b[0mcheck_X_params\u001b[0m\u001b[1;33m,\u001b[0m \u001b[0mcheck_y_params\u001b[0m \u001b[1;33m=\u001b[0m \u001b[0mvalidate_separately\u001b[0m\u001b[1;33m\u001b[0m\u001b[1;33m\u001b[0m\u001b[0m\n\u001b[1;32m--> 429\u001b[1;33m                 \u001b[0mX\u001b[0m \u001b[1;33m=\u001b[0m \u001b[0mcheck_array\u001b[0m\u001b[1;33m(\u001b[0m\u001b[0mX\u001b[0m\u001b[1;33m,\u001b[0m \u001b[1;33m**\u001b[0m\u001b[0mcheck_X_params\u001b[0m\u001b[1;33m)\u001b[0m\u001b[1;33m\u001b[0m\u001b[1;33m\u001b[0m\u001b[0m\n\u001b[0m\u001b[0;32m    430\u001b[0m                 \u001b[0my\u001b[0m \u001b[1;33m=\u001b[0m \u001b[0mcheck_array\u001b[0m\u001b[1;33m(\u001b[0m\u001b[0my\u001b[0m\u001b[1;33m,\u001b[0m \u001b[1;33m**\u001b[0m\u001b[0mcheck_y_params\u001b[0m\u001b[1;33m)\u001b[0m\u001b[1;33m\u001b[0m\u001b[1;33m\u001b[0m\u001b[0m\n\u001b[0;32m    431\u001b[0m             \u001b[1;32melse\u001b[0m\u001b[1;33m:\u001b[0m\u001b[1;33m\u001b[0m\u001b[1;33m\u001b[0m\u001b[0m\n",
      "\u001b[1;32mE:\\Anaconda\\lib\\site-packages\\sklearn\\utils\\validation.py\u001b[0m in \u001b[0;36minner_f\u001b[1;34m(*args, **kwargs)\u001b[0m\n\u001b[0;32m     70\u001b[0m                           FutureWarning)\n\u001b[0;32m     71\u001b[0m         \u001b[0mkwargs\u001b[0m\u001b[1;33m.\u001b[0m\u001b[0mupdate\u001b[0m\u001b[1;33m(\u001b[0m\u001b[1;33m{\u001b[0m\u001b[0mk\u001b[0m\u001b[1;33m:\u001b[0m \u001b[0marg\u001b[0m \u001b[1;32mfor\u001b[0m \u001b[0mk\u001b[0m\u001b[1;33m,\u001b[0m \u001b[0marg\u001b[0m \u001b[1;32min\u001b[0m \u001b[0mzip\u001b[0m\u001b[1;33m(\u001b[0m\u001b[0msig\u001b[0m\u001b[1;33m.\u001b[0m\u001b[0mparameters\u001b[0m\u001b[1;33m,\u001b[0m \u001b[0margs\u001b[0m\u001b[1;33m)\u001b[0m\u001b[1;33m}\u001b[0m\u001b[1;33m)\u001b[0m\u001b[1;33m\u001b[0m\u001b[1;33m\u001b[0m\u001b[0m\n\u001b[1;32m---> 72\u001b[1;33m         \u001b[1;32mreturn\u001b[0m \u001b[0mf\u001b[0m\u001b[1;33m(\u001b[0m\u001b[1;33m**\u001b[0m\u001b[0mkwargs\u001b[0m\u001b[1;33m)\u001b[0m\u001b[1;33m\u001b[0m\u001b[1;33m\u001b[0m\u001b[0m\n\u001b[0m\u001b[0;32m     73\u001b[0m     \u001b[1;32mreturn\u001b[0m \u001b[0minner_f\u001b[0m\u001b[1;33m\u001b[0m\u001b[1;33m\u001b[0m\u001b[0m\n\u001b[0;32m     74\u001b[0m \u001b[1;33m\u001b[0m\u001b[0m\n",
      "\u001b[1;32mE:\\Anaconda\\lib\\site-packages\\sklearn\\utils\\validation.py\u001b[0m in \u001b[0;36mcheck_array\u001b[1;34m(array, accept_sparse, accept_large_sparse, dtype, order, copy, force_all_finite, ensure_2d, allow_nd, ensure_min_samples, ensure_min_features, estimator)\u001b[0m\n\u001b[0;32m    596\u001b[0m                     \u001b[0marray\u001b[0m \u001b[1;33m=\u001b[0m \u001b[0marray\u001b[0m\u001b[1;33m.\u001b[0m\u001b[0mastype\u001b[0m\u001b[1;33m(\u001b[0m\u001b[0mdtype\u001b[0m\u001b[1;33m,\u001b[0m \u001b[0mcasting\u001b[0m\u001b[1;33m=\u001b[0m\u001b[1;34m\"unsafe\"\u001b[0m\u001b[1;33m,\u001b[0m \u001b[0mcopy\u001b[0m\u001b[1;33m=\u001b[0m\u001b[1;32mFalse\u001b[0m\u001b[1;33m)\u001b[0m\u001b[1;33m\u001b[0m\u001b[1;33m\u001b[0m\u001b[0m\n\u001b[0;32m    597\u001b[0m                 \u001b[1;32melse\u001b[0m\u001b[1;33m:\u001b[0m\u001b[1;33m\u001b[0m\u001b[1;33m\u001b[0m\u001b[0m\n\u001b[1;32m--> 598\u001b[1;33m                     \u001b[0marray\u001b[0m \u001b[1;33m=\u001b[0m \u001b[0mnp\u001b[0m\u001b[1;33m.\u001b[0m\u001b[0masarray\u001b[0m\u001b[1;33m(\u001b[0m\u001b[0marray\u001b[0m\u001b[1;33m,\u001b[0m \u001b[0morder\u001b[0m\u001b[1;33m=\u001b[0m\u001b[0morder\u001b[0m\u001b[1;33m,\u001b[0m \u001b[0mdtype\u001b[0m\u001b[1;33m=\u001b[0m\u001b[0mdtype\u001b[0m\u001b[1;33m)\u001b[0m\u001b[1;33m\u001b[0m\u001b[1;33m\u001b[0m\u001b[0m\n\u001b[0m\u001b[0;32m    599\u001b[0m             \u001b[1;32mexcept\u001b[0m \u001b[0mComplexWarning\u001b[0m\u001b[1;33m:\u001b[0m\u001b[1;33m\u001b[0m\u001b[1;33m\u001b[0m\u001b[0m\n\u001b[0;32m    600\u001b[0m                 raise ValueError(\"Complex data not supported\\n\"\n",
      "\u001b[1;32mE:\\Anaconda\\lib\\site-packages\\numpy\\core\\_asarray.py\u001b[0m in \u001b[0;36masarray\u001b[1;34m(a, dtype, order)\u001b[0m\n\u001b[0;32m     81\u001b[0m \u001b[1;33m\u001b[0m\u001b[0m\n\u001b[0;32m     82\u001b[0m     \"\"\"\n\u001b[1;32m---> 83\u001b[1;33m     \u001b[1;32mreturn\u001b[0m \u001b[0marray\u001b[0m\u001b[1;33m(\u001b[0m\u001b[0ma\u001b[0m\u001b[1;33m,\u001b[0m \u001b[0mdtype\u001b[0m\u001b[1;33m,\u001b[0m \u001b[0mcopy\u001b[0m\u001b[1;33m=\u001b[0m\u001b[1;32mFalse\u001b[0m\u001b[1;33m,\u001b[0m \u001b[0morder\u001b[0m\u001b[1;33m=\u001b[0m\u001b[0morder\u001b[0m\u001b[1;33m)\u001b[0m\u001b[1;33m\u001b[0m\u001b[1;33m\u001b[0m\u001b[0m\n\u001b[0m\u001b[0;32m     84\u001b[0m \u001b[1;33m\u001b[0m\u001b[0m\n\u001b[0;32m     85\u001b[0m \u001b[1;33m\u001b[0m\u001b[0m\n",
      "\u001b[1;32mE:\\Anaconda\\lib\\site-packages\\pandas\\core\\generic.py\u001b[0m in \u001b[0;36m__array__\u001b[1;34m(self, dtype)\u001b[0m\n\u001b[0;32m   1779\u001b[0m \u001b[1;33m\u001b[0m\u001b[0m\n\u001b[0;32m   1780\u001b[0m     \u001b[1;32mdef\u001b[0m \u001b[0m__array__\u001b[0m\u001b[1;33m(\u001b[0m\u001b[0mself\u001b[0m\u001b[1;33m,\u001b[0m \u001b[0mdtype\u001b[0m\u001b[1;33m=\u001b[0m\u001b[1;32mNone\u001b[0m\u001b[1;33m)\u001b[0m \u001b[1;33m->\u001b[0m \u001b[0mnp\u001b[0m\u001b[1;33m.\u001b[0m\u001b[0mndarray\u001b[0m\u001b[1;33m:\u001b[0m\u001b[1;33m\u001b[0m\u001b[1;33m\u001b[0m\u001b[0m\n\u001b[1;32m-> 1781\u001b[1;33m         \u001b[1;32mreturn\u001b[0m \u001b[0mnp\u001b[0m\u001b[1;33m.\u001b[0m\u001b[0masarray\u001b[0m\u001b[1;33m(\u001b[0m\u001b[0mself\u001b[0m\u001b[1;33m.\u001b[0m\u001b[0m_values\u001b[0m\u001b[1;33m,\u001b[0m \u001b[0mdtype\u001b[0m\u001b[1;33m=\u001b[0m\u001b[0mdtype\u001b[0m\u001b[1;33m)\u001b[0m\u001b[1;33m\u001b[0m\u001b[1;33m\u001b[0m\u001b[0m\n\u001b[0m\u001b[0;32m   1782\u001b[0m \u001b[1;33m\u001b[0m\u001b[0m\n\u001b[0;32m   1783\u001b[0m     \u001b[1;32mdef\u001b[0m \u001b[0m__array_wrap__\u001b[0m\u001b[1;33m(\u001b[0m\u001b[0mself\u001b[0m\u001b[1;33m,\u001b[0m \u001b[0mresult\u001b[0m\u001b[1;33m,\u001b[0m \u001b[0mcontext\u001b[0m\u001b[1;33m=\u001b[0m\u001b[1;32mNone\u001b[0m\u001b[1;33m)\u001b[0m\u001b[1;33m:\u001b[0m\u001b[1;33m\u001b[0m\u001b[1;33m\u001b[0m\u001b[0m\n",
      "\u001b[1;32mE:\\Anaconda\\lib\\site-packages\\numpy\\core\\_asarray.py\u001b[0m in \u001b[0;36masarray\u001b[1;34m(a, dtype, order)\u001b[0m\n\u001b[0;32m     81\u001b[0m \u001b[1;33m\u001b[0m\u001b[0m\n\u001b[0;32m     82\u001b[0m     \"\"\"\n\u001b[1;32m---> 83\u001b[1;33m     \u001b[1;32mreturn\u001b[0m \u001b[0marray\u001b[0m\u001b[1;33m(\u001b[0m\u001b[0ma\u001b[0m\u001b[1;33m,\u001b[0m \u001b[0mdtype\u001b[0m\u001b[1;33m,\u001b[0m \u001b[0mcopy\u001b[0m\u001b[1;33m=\u001b[0m\u001b[1;32mFalse\u001b[0m\u001b[1;33m,\u001b[0m \u001b[0morder\u001b[0m\u001b[1;33m=\u001b[0m\u001b[0morder\u001b[0m\u001b[1;33m)\u001b[0m\u001b[1;33m\u001b[0m\u001b[1;33m\u001b[0m\u001b[0m\n\u001b[0m\u001b[0;32m     84\u001b[0m \u001b[1;33m\u001b[0m\u001b[0m\n\u001b[0;32m     85\u001b[0m \u001b[1;33m\u001b[0m\u001b[0m\n",
      "\u001b[1;31mValueError\u001b[0m: could not convert string to float: 'sunny'"
     ]
    }
   ],
   "source": [
    "#สร้าง model\n",
    "\n",
    "from sklearn.tree import DecisionTreeClassifier\n",
    "\n",
    "model = DecisionTreeClassifier()\n",
    "model.fit(X, y)\n",
    "\n"
   ]
  },
  {
   "cell_type": "code",
   "execution_count": 31,
   "metadata": {},
   "outputs": [],
   "source": [
    "#Error เพราะประมวลผล string 'sunny' ไม่ได้ ต้องเข้ารหัสแปลง str เป็นตัวเลขก่อน "
   ]
  },
  {
   "cell_type": "code",
   "execution_count": 33,
   "metadata": {},
   "outputs": [
    {
     "data": {
      "text/html": [
       "<div>\n",
       "<style scoped>\n",
       "    .dataframe tbody tr th:only-of-type {\n",
       "        vertical-align: middle;\n",
       "    }\n",
       "\n",
       "    .dataframe tbody tr th {\n",
       "        vertical-align: top;\n",
       "    }\n",
       "\n",
       "    .dataframe thead th {\n",
       "        text-align: right;\n",
       "    }\n",
       "</style>\n",
       "<table border=\"1\" class=\"dataframe\">\n",
       "  <thead>\n",
       "    <tr style=\"text-align: right;\">\n",
       "      <th></th>\n",
       "      <th>outlook</th>\n",
       "      <th>temp</th>\n",
       "      <th>humidity</th>\n",
       "      <th>windy</th>\n",
       "      <th>play</th>\n",
       "      <th>outlook_</th>\n",
       "      <th>temp_</th>\n",
       "      <th>humidity_</th>\n",
       "      <th>windy_</th>\n",
       "    </tr>\n",
       "  </thead>\n",
       "  <tbody>\n",
       "    <tr>\n",
       "      <th>0</th>\n",
       "      <td>sunny</td>\n",
       "      <td>hot</td>\n",
       "      <td>high</td>\n",
       "      <td>False</td>\n",
       "      <td>no</td>\n",
       "      <td>2</td>\n",
       "      <td>1</td>\n",
       "      <td>0</td>\n",
       "      <td>0</td>\n",
       "    </tr>\n",
       "    <tr>\n",
       "      <th>1</th>\n",
       "      <td>sunny</td>\n",
       "      <td>hot</td>\n",
       "      <td>high</td>\n",
       "      <td>True</td>\n",
       "      <td>no</td>\n",
       "      <td>2</td>\n",
       "      <td>1</td>\n",
       "      <td>0</td>\n",
       "      <td>1</td>\n",
       "    </tr>\n",
       "    <tr>\n",
       "      <th>2</th>\n",
       "      <td>overcast</td>\n",
       "      <td>hot</td>\n",
       "      <td>high</td>\n",
       "      <td>False</td>\n",
       "      <td>yes</td>\n",
       "      <td>0</td>\n",
       "      <td>1</td>\n",
       "      <td>0</td>\n",
       "      <td>0</td>\n",
       "    </tr>\n",
       "    <tr>\n",
       "      <th>3</th>\n",
       "      <td>rainy</td>\n",
       "      <td>mild</td>\n",
       "      <td>high</td>\n",
       "      <td>False</td>\n",
       "      <td>yes</td>\n",
       "      <td>1</td>\n",
       "      <td>2</td>\n",
       "      <td>0</td>\n",
       "      <td>0</td>\n",
       "    </tr>\n",
       "    <tr>\n",
       "      <th>4</th>\n",
       "      <td>rainy</td>\n",
       "      <td>cool</td>\n",
       "      <td>normal</td>\n",
       "      <td>False</td>\n",
       "      <td>yes</td>\n",
       "      <td>1</td>\n",
       "      <td>0</td>\n",
       "      <td>1</td>\n",
       "      <td>0</td>\n",
       "    </tr>\n",
       "    <tr>\n",
       "      <th>5</th>\n",
       "      <td>rainy</td>\n",
       "      <td>cool</td>\n",
       "      <td>normal</td>\n",
       "      <td>True</td>\n",
       "      <td>no</td>\n",
       "      <td>1</td>\n",
       "      <td>0</td>\n",
       "      <td>1</td>\n",
       "      <td>1</td>\n",
       "    </tr>\n",
       "    <tr>\n",
       "      <th>6</th>\n",
       "      <td>overcast</td>\n",
       "      <td>cool</td>\n",
       "      <td>normal</td>\n",
       "      <td>True</td>\n",
       "      <td>yes</td>\n",
       "      <td>0</td>\n",
       "      <td>0</td>\n",
       "      <td>1</td>\n",
       "      <td>1</td>\n",
       "    </tr>\n",
       "    <tr>\n",
       "      <th>7</th>\n",
       "      <td>sunny</td>\n",
       "      <td>mild</td>\n",
       "      <td>high</td>\n",
       "      <td>False</td>\n",
       "      <td>no</td>\n",
       "      <td>2</td>\n",
       "      <td>2</td>\n",
       "      <td>0</td>\n",
       "      <td>0</td>\n",
       "    </tr>\n",
       "    <tr>\n",
       "      <th>8</th>\n",
       "      <td>sunny</td>\n",
       "      <td>cool</td>\n",
       "      <td>normal</td>\n",
       "      <td>False</td>\n",
       "      <td>yes</td>\n",
       "      <td>2</td>\n",
       "      <td>0</td>\n",
       "      <td>1</td>\n",
       "      <td>0</td>\n",
       "    </tr>\n",
       "    <tr>\n",
       "      <th>9</th>\n",
       "      <td>rainy</td>\n",
       "      <td>mild</td>\n",
       "      <td>normal</td>\n",
       "      <td>False</td>\n",
       "      <td>yes</td>\n",
       "      <td>1</td>\n",
       "      <td>2</td>\n",
       "      <td>1</td>\n",
       "      <td>0</td>\n",
       "    </tr>\n",
       "    <tr>\n",
       "      <th>10</th>\n",
       "      <td>sunny</td>\n",
       "      <td>mild</td>\n",
       "      <td>normal</td>\n",
       "      <td>True</td>\n",
       "      <td>yes</td>\n",
       "      <td>2</td>\n",
       "      <td>2</td>\n",
       "      <td>1</td>\n",
       "      <td>1</td>\n",
       "    </tr>\n",
       "    <tr>\n",
       "      <th>11</th>\n",
       "      <td>overcast</td>\n",
       "      <td>mild</td>\n",
       "      <td>high</td>\n",
       "      <td>True</td>\n",
       "      <td>yes</td>\n",
       "      <td>0</td>\n",
       "      <td>2</td>\n",
       "      <td>0</td>\n",
       "      <td>1</td>\n",
       "    </tr>\n",
       "    <tr>\n",
       "      <th>12</th>\n",
       "      <td>overcast</td>\n",
       "      <td>hot</td>\n",
       "      <td>normal</td>\n",
       "      <td>False</td>\n",
       "      <td>yes</td>\n",
       "      <td>0</td>\n",
       "      <td>1</td>\n",
       "      <td>1</td>\n",
       "      <td>0</td>\n",
       "    </tr>\n",
       "    <tr>\n",
       "      <th>13</th>\n",
       "      <td>rainy</td>\n",
       "      <td>mild</td>\n",
       "      <td>high</td>\n",
       "      <td>True</td>\n",
       "      <td>no</td>\n",
       "      <td>1</td>\n",
       "      <td>2</td>\n",
       "      <td>0</td>\n",
       "      <td>1</td>\n",
       "    </tr>\n",
       "    <tr>\n",
       "      <th>14</th>\n",
       "      <td>overcast</td>\n",
       "      <td>hot</td>\n",
       "      <td>high</td>\n",
       "      <td>False</td>\n",
       "      <td>yes</td>\n",
       "      <td>0</td>\n",
       "      <td>1</td>\n",
       "      <td>0</td>\n",
       "      <td>0</td>\n",
       "    </tr>\n",
       "    <tr>\n",
       "      <th>15</th>\n",
       "      <td>rainy</td>\n",
       "      <td>mild</td>\n",
       "      <td>high</td>\n",
       "      <td>False</td>\n",
       "      <td>yes</td>\n",
       "      <td>1</td>\n",
       "      <td>2</td>\n",
       "      <td>0</td>\n",
       "      <td>0</td>\n",
       "    </tr>\n",
       "    <tr>\n",
       "      <th>16</th>\n",
       "      <td>sunny</td>\n",
       "      <td>mild</td>\n",
       "      <td>high</td>\n",
       "      <td>False</td>\n",
       "      <td>no</td>\n",
       "      <td>2</td>\n",
       "      <td>2</td>\n",
       "      <td>0</td>\n",
       "      <td>0</td>\n",
       "    </tr>\n",
       "    <tr>\n",
       "      <th>17</th>\n",
       "      <td>rainy</td>\n",
       "      <td>cool</td>\n",
       "      <td>normal</td>\n",
       "      <td>True</td>\n",
       "      <td>no</td>\n",
       "      <td>1</td>\n",
       "      <td>0</td>\n",
       "      <td>1</td>\n",
       "      <td>1</td>\n",
       "    </tr>\n",
       "    <tr>\n",
       "      <th>18</th>\n",
       "      <td>sunny</td>\n",
       "      <td>hot</td>\n",
       "      <td>high</td>\n",
       "      <td>False</td>\n",
       "      <td>no</td>\n",
       "      <td>2</td>\n",
       "      <td>1</td>\n",
       "      <td>0</td>\n",
       "      <td>0</td>\n",
       "    </tr>\n",
       "    <tr>\n",
       "      <th>19</th>\n",
       "      <td>sunny</td>\n",
       "      <td>hot</td>\n",
       "      <td>high</td>\n",
       "      <td>True</td>\n",
       "      <td>no</td>\n",
       "      <td>2</td>\n",
       "      <td>1</td>\n",
       "      <td>0</td>\n",
       "      <td>1</td>\n",
       "    </tr>\n",
       "  </tbody>\n",
       "</table>\n",
       "</div>"
      ],
      "text/plain": [
       "     outlook  temp humidity  windy play  outlook_  temp_  humidity_  windy_\n",
       "0      sunny   hot     high  False   no         2      1          0       0\n",
       "1      sunny   hot     high   True   no         2      1          0       1\n",
       "2   overcast   hot     high  False  yes         0      1          0       0\n",
       "3      rainy  mild     high  False  yes         1      2          0       0\n",
       "4      rainy  cool   normal  False  yes         1      0          1       0\n",
       "5      rainy  cool   normal   True   no         1      0          1       1\n",
       "6   overcast  cool   normal   True  yes         0      0          1       1\n",
       "7      sunny  mild     high  False   no         2      2          0       0\n",
       "8      sunny  cool   normal  False  yes         2      0          1       0\n",
       "9      rainy  mild   normal  False  yes         1      2          1       0\n",
       "10     sunny  mild   normal   True  yes         2      2          1       1\n",
       "11  overcast  mild     high   True  yes         0      2          0       1\n",
       "12  overcast   hot   normal  False  yes         0      1          1       0\n",
       "13     rainy  mild     high   True   no         1      2          0       1\n",
       "14  overcast   hot     high  False  yes         0      1          0       0\n",
       "15     rainy  mild     high  False  yes         1      2          0       0\n",
       "16     sunny  mild     high  False   no         2      2          0       0\n",
       "17     rainy  cool   normal   True   no         1      0          1       1\n",
       "18     sunny   hot     high  False   no         2      1          0       0\n",
       "19     sunny   hot     high   True   no         2      1          0       1"
      ]
     },
     "execution_count": 33,
     "metadata": {},
     "output_type": "execute_result"
    }
   ],
   "source": [
    "#เข้ารหัสด้วย Label Encoding\n",
    "#เข้ารหัส outlook, temp, humidity, windy แปลง string ข้อความให้เป็ฯตัวเลข แล้วเก็บไว้ที่คอลัมน์ outlook_, temp_, humidity_ และ windy_ (ใส่ _ ให้ชื่อแตกต่างกัน เพื่อเปรียบเทียบ)\n",
    "\n",
    "from sklearn.preprocessing import LabelEncoder\n",
    "\n",
    "def labelEncode(data, columns):\n",
    "    for i in columns:\n",
    "#         print(i)\n",
    "        lb = LabelEncoder().fit_transform(data[i])\n",
    "        data[i + '_'] = lb\n",
    "\n",
    "columns = ['outlook','temp','humidity','windy']\n",
    "labelEncode(df, columns)\n",
    "df"
   ]
  },
  {
   "cell_type": "code",
   "execution_count": 34,
   "metadata": {},
   "outputs": [
    {
     "data": {
      "text/html": [
       "<div>\n",
       "<style scoped>\n",
       "    .dataframe tbody tr th:only-of-type {\n",
       "        vertical-align: middle;\n",
       "    }\n",
       "\n",
       "    .dataframe tbody tr th {\n",
       "        vertical-align: top;\n",
       "    }\n",
       "\n",
       "    .dataframe thead th {\n",
       "        text-align: right;\n",
       "    }\n",
       "</style>\n",
       "<table border=\"1\" class=\"dataframe\">\n",
       "  <thead>\n",
       "    <tr style=\"text-align: right;\">\n",
       "      <th></th>\n",
       "      <th>outlook</th>\n",
       "      <th>temp</th>\n",
       "      <th>humidity</th>\n",
       "      <th>windy</th>\n",
       "      <th>play</th>\n",
       "      <th>outlook_</th>\n",
       "      <th>temp_</th>\n",
       "      <th>humidity_</th>\n",
       "      <th>windy_</th>\n",
       "      <th>play_</th>\n",
       "    </tr>\n",
       "  </thead>\n",
       "  <tbody>\n",
       "    <tr>\n",
       "      <th>0</th>\n",
       "      <td>sunny</td>\n",
       "      <td>hot</td>\n",
       "      <td>high</td>\n",
       "      <td>False</td>\n",
       "      <td>no</td>\n",
       "      <td>2</td>\n",
       "      <td>1</td>\n",
       "      <td>0</td>\n",
       "      <td>0</td>\n",
       "      <td>0</td>\n",
       "    </tr>\n",
       "    <tr>\n",
       "      <th>1</th>\n",
       "      <td>sunny</td>\n",
       "      <td>hot</td>\n",
       "      <td>high</td>\n",
       "      <td>True</td>\n",
       "      <td>no</td>\n",
       "      <td>2</td>\n",
       "      <td>1</td>\n",
       "      <td>0</td>\n",
       "      <td>1</td>\n",
       "      <td>0</td>\n",
       "    </tr>\n",
       "    <tr>\n",
       "      <th>2</th>\n",
       "      <td>overcast</td>\n",
       "      <td>hot</td>\n",
       "      <td>high</td>\n",
       "      <td>False</td>\n",
       "      <td>yes</td>\n",
       "      <td>0</td>\n",
       "      <td>1</td>\n",
       "      <td>0</td>\n",
       "      <td>0</td>\n",
       "      <td>1</td>\n",
       "    </tr>\n",
       "    <tr>\n",
       "      <th>3</th>\n",
       "      <td>rainy</td>\n",
       "      <td>mild</td>\n",
       "      <td>high</td>\n",
       "      <td>False</td>\n",
       "      <td>yes</td>\n",
       "      <td>1</td>\n",
       "      <td>2</td>\n",
       "      <td>0</td>\n",
       "      <td>0</td>\n",
       "      <td>1</td>\n",
       "    </tr>\n",
       "    <tr>\n",
       "      <th>4</th>\n",
       "      <td>rainy</td>\n",
       "      <td>cool</td>\n",
       "      <td>normal</td>\n",
       "      <td>False</td>\n",
       "      <td>yes</td>\n",
       "      <td>1</td>\n",
       "      <td>0</td>\n",
       "      <td>1</td>\n",
       "      <td>0</td>\n",
       "      <td>1</td>\n",
       "    </tr>\n",
       "    <tr>\n",
       "      <th>5</th>\n",
       "      <td>rainy</td>\n",
       "      <td>cool</td>\n",
       "      <td>normal</td>\n",
       "      <td>True</td>\n",
       "      <td>no</td>\n",
       "      <td>1</td>\n",
       "      <td>0</td>\n",
       "      <td>1</td>\n",
       "      <td>1</td>\n",
       "      <td>0</td>\n",
       "    </tr>\n",
       "    <tr>\n",
       "      <th>6</th>\n",
       "      <td>overcast</td>\n",
       "      <td>cool</td>\n",
       "      <td>normal</td>\n",
       "      <td>True</td>\n",
       "      <td>yes</td>\n",
       "      <td>0</td>\n",
       "      <td>0</td>\n",
       "      <td>1</td>\n",
       "      <td>1</td>\n",
       "      <td>1</td>\n",
       "    </tr>\n",
       "    <tr>\n",
       "      <th>7</th>\n",
       "      <td>sunny</td>\n",
       "      <td>mild</td>\n",
       "      <td>high</td>\n",
       "      <td>False</td>\n",
       "      <td>no</td>\n",
       "      <td>2</td>\n",
       "      <td>2</td>\n",
       "      <td>0</td>\n",
       "      <td>0</td>\n",
       "      <td>0</td>\n",
       "    </tr>\n",
       "    <tr>\n",
       "      <th>8</th>\n",
       "      <td>sunny</td>\n",
       "      <td>cool</td>\n",
       "      <td>normal</td>\n",
       "      <td>False</td>\n",
       "      <td>yes</td>\n",
       "      <td>2</td>\n",
       "      <td>0</td>\n",
       "      <td>1</td>\n",
       "      <td>0</td>\n",
       "      <td>1</td>\n",
       "    </tr>\n",
       "    <tr>\n",
       "      <th>9</th>\n",
       "      <td>rainy</td>\n",
       "      <td>mild</td>\n",
       "      <td>normal</td>\n",
       "      <td>False</td>\n",
       "      <td>yes</td>\n",
       "      <td>1</td>\n",
       "      <td>2</td>\n",
       "      <td>1</td>\n",
       "      <td>0</td>\n",
       "      <td>1</td>\n",
       "    </tr>\n",
       "    <tr>\n",
       "      <th>10</th>\n",
       "      <td>sunny</td>\n",
       "      <td>mild</td>\n",
       "      <td>normal</td>\n",
       "      <td>True</td>\n",
       "      <td>yes</td>\n",
       "      <td>2</td>\n",
       "      <td>2</td>\n",
       "      <td>1</td>\n",
       "      <td>1</td>\n",
       "      <td>1</td>\n",
       "    </tr>\n",
       "    <tr>\n",
       "      <th>11</th>\n",
       "      <td>overcast</td>\n",
       "      <td>mild</td>\n",
       "      <td>high</td>\n",
       "      <td>True</td>\n",
       "      <td>yes</td>\n",
       "      <td>0</td>\n",
       "      <td>2</td>\n",
       "      <td>0</td>\n",
       "      <td>1</td>\n",
       "      <td>1</td>\n",
       "    </tr>\n",
       "    <tr>\n",
       "      <th>12</th>\n",
       "      <td>overcast</td>\n",
       "      <td>hot</td>\n",
       "      <td>normal</td>\n",
       "      <td>False</td>\n",
       "      <td>yes</td>\n",
       "      <td>0</td>\n",
       "      <td>1</td>\n",
       "      <td>1</td>\n",
       "      <td>0</td>\n",
       "      <td>1</td>\n",
       "    </tr>\n",
       "    <tr>\n",
       "      <th>13</th>\n",
       "      <td>rainy</td>\n",
       "      <td>mild</td>\n",
       "      <td>high</td>\n",
       "      <td>True</td>\n",
       "      <td>no</td>\n",
       "      <td>1</td>\n",
       "      <td>2</td>\n",
       "      <td>0</td>\n",
       "      <td>1</td>\n",
       "      <td>0</td>\n",
       "    </tr>\n",
       "    <tr>\n",
       "      <th>14</th>\n",
       "      <td>overcast</td>\n",
       "      <td>hot</td>\n",
       "      <td>high</td>\n",
       "      <td>False</td>\n",
       "      <td>yes</td>\n",
       "      <td>0</td>\n",
       "      <td>1</td>\n",
       "      <td>0</td>\n",
       "      <td>0</td>\n",
       "      <td>1</td>\n",
       "    </tr>\n",
       "    <tr>\n",
       "      <th>15</th>\n",
       "      <td>rainy</td>\n",
       "      <td>mild</td>\n",
       "      <td>high</td>\n",
       "      <td>False</td>\n",
       "      <td>yes</td>\n",
       "      <td>1</td>\n",
       "      <td>2</td>\n",
       "      <td>0</td>\n",
       "      <td>0</td>\n",
       "      <td>1</td>\n",
       "    </tr>\n",
       "    <tr>\n",
       "      <th>16</th>\n",
       "      <td>sunny</td>\n",
       "      <td>mild</td>\n",
       "      <td>high</td>\n",
       "      <td>False</td>\n",
       "      <td>no</td>\n",
       "      <td>2</td>\n",
       "      <td>2</td>\n",
       "      <td>0</td>\n",
       "      <td>0</td>\n",
       "      <td>0</td>\n",
       "    </tr>\n",
       "    <tr>\n",
       "      <th>17</th>\n",
       "      <td>rainy</td>\n",
       "      <td>cool</td>\n",
       "      <td>normal</td>\n",
       "      <td>True</td>\n",
       "      <td>no</td>\n",
       "      <td>1</td>\n",
       "      <td>0</td>\n",
       "      <td>1</td>\n",
       "      <td>1</td>\n",
       "      <td>0</td>\n",
       "    </tr>\n",
       "    <tr>\n",
       "      <th>18</th>\n",
       "      <td>sunny</td>\n",
       "      <td>hot</td>\n",
       "      <td>high</td>\n",
       "      <td>False</td>\n",
       "      <td>no</td>\n",
       "      <td>2</td>\n",
       "      <td>1</td>\n",
       "      <td>0</td>\n",
       "      <td>0</td>\n",
       "      <td>0</td>\n",
       "    </tr>\n",
       "    <tr>\n",
       "      <th>19</th>\n",
       "      <td>sunny</td>\n",
       "      <td>hot</td>\n",
       "      <td>high</td>\n",
       "      <td>True</td>\n",
       "      <td>no</td>\n",
       "      <td>2</td>\n",
       "      <td>1</td>\n",
       "      <td>0</td>\n",
       "      <td>1</td>\n",
       "      <td>0</td>\n",
       "    </tr>\n",
       "  </tbody>\n",
       "</table>\n",
       "</div>"
      ],
      "text/plain": [
       "     outlook  temp humidity  windy play  outlook_  temp_  humidity_  windy_  \\\n",
       "0      sunny   hot     high  False   no         2      1          0       0   \n",
       "1      sunny   hot     high   True   no         2      1          0       1   \n",
       "2   overcast   hot     high  False  yes         0      1          0       0   \n",
       "3      rainy  mild     high  False  yes         1      2          0       0   \n",
       "4      rainy  cool   normal  False  yes         1      0          1       0   \n",
       "5      rainy  cool   normal   True   no         1      0          1       1   \n",
       "6   overcast  cool   normal   True  yes         0      0          1       1   \n",
       "7      sunny  mild     high  False   no         2      2          0       0   \n",
       "8      sunny  cool   normal  False  yes         2      0          1       0   \n",
       "9      rainy  mild   normal  False  yes         1      2          1       0   \n",
       "10     sunny  mild   normal   True  yes         2      2          1       1   \n",
       "11  overcast  mild     high   True  yes         0      2          0       1   \n",
       "12  overcast   hot   normal  False  yes         0      1          1       0   \n",
       "13     rainy  mild     high   True   no         1      2          0       1   \n",
       "14  overcast   hot     high  False  yes         0      1          0       0   \n",
       "15     rainy  mild     high  False  yes         1      2          0       0   \n",
       "16     sunny  mild     high  False   no         2      2          0       0   \n",
       "17     rainy  cool   normal   True   no         1      0          1       1   \n",
       "18     sunny   hot     high  False   no         2      1          0       0   \n",
       "19     sunny   hot     high   True   no         2      1          0       1   \n",
       "\n",
       "    play_  \n",
       "0       0  \n",
       "1       0  \n",
       "2       1  \n",
       "3       1  \n",
       "4       1  \n",
       "5       0  \n",
       "6       1  \n",
       "7       0  \n",
       "8       1  \n",
       "9       1  \n",
       "10      1  \n",
       "11      1  \n",
       "12      1  \n",
       "13      0  \n",
       "14      1  \n",
       "15      1  \n",
       "16      0  \n",
       "17      0  \n",
       "18      0  \n",
       "19      0  "
      ]
     },
     "execution_count": 34,
     "metadata": {},
     "output_type": "execute_result"
    }
   ],
   "source": [
    "#เข้ารหัสคอลัมน์ play(แปลง no yes ให้เป็น 0 1)\n",
    "y_le = LabelEncoder()\n",
    "y = y_le.fit_transform(df.play)\n",
    "df['play_'] = y\n",
    "df"
   ]
  },
  {
   "cell_type": "code",
   "execution_count": 35,
   "metadata": {},
   "outputs": [
    {
     "data": {
      "text/html": [
       "<div>\n",
       "<style scoped>\n",
       "    .dataframe tbody tr th:only-of-type {\n",
       "        vertical-align: middle;\n",
       "    }\n",
       "\n",
       "    .dataframe tbody tr th {\n",
       "        vertical-align: top;\n",
       "    }\n",
       "\n",
       "    .dataframe thead th {\n",
       "        text-align: right;\n",
       "    }\n",
       "</style>\n",
       "<table border=\"1\" class=\"dataframe\">\n",
       "  <thead>\n",
       "    <tr style=\"text-align: right;\">\n",
       "      <th></th>\n",
       "      <th>outlook_</th>\n",
       "      <th>temp_</th>\n",
       "      <th>humidity_</th>\n",
       "      <th>windy_</th>\n",
       "    </tr>\n",
       "  </thead>\n",
       "  <tbody>\n",
       "    <tr>\n",
       "      <th>0</th>\n",
       "      <td>2</td>\n",
       "      <td>1</td>\n",
       "      <td>0</td>\n",
       "      <td>0</td>\n",
       "    </tr>\n",
       "    <tr>\n",
       "      <th>1</th>\n",
       "      <td>2</td>\n",
       "      <td>1</td>\n",
       "      <td>0</td>\n",
       "      <td>1</td>\n",
       "    </tr>\n",
       "    <tr>\n",
       "      <th>2</th>\n",
       "      <td>0</td>\n",
       "      <td>1</td>\n",
       "      <td>0</td>\n",
       "      <td>0</td>\n",
       "    </tr>\n",
       "    <tr>\n",
       "      <th>3</th>\n",
       "      <td>1</td>\n",
       "      <td>2</td>\n",
       "      <td>0</td>\n",
       "      <td>0</td>\n",
       "    </tr>\n",
       "    <tr>\n",
       "      <th>4</th>\n",
       "      <td>1</td>\n",
       "      <td>0</td>\n",
       "      <td>1</td>\n",
       "      <td>0</td>\n",
       "    </tr>\n",
       "  </tbody>\n",
       "</table>\n",
       "</div>"
      ],
      "text/plain": [
       "   outlook_  temp_  humidity_  windy_\n",
       "0         2      1          0       0\n",
       "1         2      1          0       1\n",
       "2         0      1          0       0\n",
       "3         1      2          0       0\n",
       "4         1      0          1       0"
      ]
     },
     "execution_count": 35,
     "metadata": {},
     "output_type": "execute_result"
    }
   ],
   "source": [
    "#เอาค่า X เฉพาะ ['outlook_', 'temp_', 'humidity_', 'windy_'] ที่จะนำไป Train ดังนี้\n",
    "#เอาข้อมูล Features ที่จะนำไป Train\n",
    "X = df[['outlook_','temp_','humidity_', 'windy_']]  # or X = df.iloc[:,5:-1]\n",
    "X[:5]"
   ]
  },
  {
   "cell_type": "code",
   "execution_count": 36,
   "metadata": {},
   "outputs": [
    {
     "data": {
      "text/plain": [
       "DecisionTreeClassifier()"
      ]
     },
     "execution_count": 36,
     "metadata": {},
     "output_type": "execute_result"
    }
   ],
   "source": [
    "#ทำการ Train\n",
    "\n",
    "from sklearn.tree import DecisionTreeClassifier\n",
    "model = DecisionTreeClassifier()\n",
    "model.fit(X, y)"
   ]
  },
  {
   "cell_type": "code",
   "execution_count": 37,
   "metadata": {},
   "outputs": [
    {
     "data": {
      "text/plain": [
       "['no', 'yes']"
      ]
     },
     "execution_count": 37,
     "metadata": {},
     "output_type": "execute_result"
    }
   ],
   "source": [
    "#ทำนาย \n",
    "#กรณีนี้ input 1 ตัว ต้องมี 4 ค่า เรียงตามลำดับ\n",
    "\n",
    "class_names = list(y_le.classes_)  \n",
    "class_names"
   ]
  },
  {
   "cell_type": "code",
   "execution_count": 38,
   "metadata": {},
   "outputs": [
    {
     "name": "stdout",
     "output_type": "stream",
     "text": [
      "Result : yes\n"
     ]
    }
   ],
   "source": [
    "data = [[1,2,0,0]]\n",
    "y_predict = model.predict(data)\n",
    "\n",
    "prd = class_names[y_predict[0]]\n",
    "print('Result : {}'. format(prd))"
   ]
  },
  {
   "cell_type": "code",
   "execution_count": 40,
   "metadata": {},
   "outputs": [
    {
     "data": {
      "image/png": "[encoded data removed]",
      "text/plain": [
       "<IPython.core.display.Image object>"
      ]
     },
     "execution_count": 40,
     "metadata": {},
     "output_type": "execute_result"
    }
   ],
   "source": [
    "#แสดง diagram\n",
    "\n",
    "data_feature_names = 'outlook','temp','humidity', 'windy'\n",
    "\n",
    "import pydotplus\n",
    "\n",
    "from sklearn.tree import export_graphviz\n",
    "from IPython.display import Image\n",
    "\n",
    "dot_data = export_graphviz(model, out_file=None, \n",
    "                           feature_names=data_feature_names,  \n",
    "                           class_names=class_names, # \n",
    "                           filled=True,\n",
    "                           rounded=True)\n",
    "\n",
    "\n",
    "graph = pydotplus.graph_from_dot_data(dot_data)  # Draw graph\n",
    "Image(graph.create_png())  # Show graph             \n",
    "\n",
    "#พิจารณาที่ค่า outlook ก่อน เช่น ถ้า outlook <= 0.5 (supercast หรือ 0) ผลลัพธ์จะเป็น yes ถ้า outlook > 0.5 ซึ่งก็คือ 1 หรือ 2 ก็พิจารณา humidity เป็นลำดับถัดไป เป็นชั้น ๆ ต่อไป"
   ]
  },
  {
   "cell_type": "code",
   "execution_count": 42,
   "metadata": {},
   "outputs": [],
   "source": [
    "#การประเมิน Model เบื้องต้น\n",
    "\n",
    "df = pd.read_csv('data/playtennis-14rec.csv')"
   ]
  },
  {
   "cell_type": "code",
   "execution_count": 43,
   "metadata": {},
   "outputs": [],
   "source": [
    "from sklearn.model_selection import train_test_split\n",
    "from sklearn.metrics import accuracy_score \n",
    "#แบ่ง 20% ไว้ Test\n",
    "X_train, X_test, y_train, y_test = train_test_split(X,y, test_size=0.2) #0.2 คือ 20%"
   ]
  },
  {
   "cell_type": "code",
   "execution_count": 44,
   "metadata": {},
   "outputs": [
    {
     "name": "stdout",
     "output_type": "stream",
     "text": [
      "Total X: 20\n",
      "Total train: 16\n",
      "Total test: 4\n"
     ]
    },
    {
     "data": {
      "text/html": [
       "<div>\n",
       "<style scoped>\n",
       "    .dataframe tbody tr th:only-of-type {\n",
       "        vertical-align: middle;\n",
       "    }\n",
       "\n",
       "    .dataframe tbody tr th {\n",
       "        vertical-align: top;\n",
       "    }\n",
       "\n",
       "    .dataframe thead th {\n",
       "        text-align: right;\n",
       "    }\n",
       "</style>\n",
       "<table border=\"1\" class=\"dataframe\">\n",
       "  <thead>\n",
       "    <tr style=\"text-align: right;\">\n",
       "      <th></th>\n",
       "      <th>outlook_</th>\n",
       "      <th>temp_</th>\n",
       "      <th>humidity_</th>\n",
       "      <th>windy_</th>\n",
       "    </tr>\n",
       "  </thead>\n",
       "  <tbody>\n",
       "    <tr>\n",
       "      <th>7</th>\n",
       "      <td>2</td>\n",
       "      <td>2</td>\n",
       "      <td>0</td>\n",
       "      <td>0</td>\n",
       "    </tr>\n",
       "    <tr>\n",
       "      <th>11</th>\n",
       "      <td>0</td>\n",
       "      <td>2</td>\n",
       "      <td>0</td>\n",
       "      <td>1</td>\n",
       "    </tr>\n",
       "    <tr>\n",
       "      <th>15</th>\n",
       "      <td>1</td>\n",
       "      <td>2</td>\n",
       "      <td>0</td>\n",
       "      <td>0</td>\n",
       "    </tr>\n",
       "    <tr>\n",
       "      <th>0</th>\n",
       "      <td>2</td>\n",
       "      <td>1</td>\n",
       "      <td>0</td>\n",
       "      <td>0</td>\n",
       "    </tr>\n",
       "  </tbody>\n",
       "</table>\n",
       "</div>"
      ],
      "text/plain": [
       "    outlook_  temp_  humidity_  windy_\n",
       "7          2      2          0       0\n",
       "11         0      2          0       1\n",
       "15         1      2          0       0\n",
       "0          2      1          0       0"
      ]
     },
     "execution_count": 44,
     "metadata": {},
     "output_type": "execute_result"
    }
   ],
   "source": [
    "print('Total X: {}'. format(len(X)))\n",
    "print('Total train: {}'. format(len(X_train)))\n",
    "print('Total test: {}'. format(len(X_test)))\n",
    "X_test"
   ]
  },
  {
   "cell_type": "code",
   "execution_count": 48,
   "metadata": {},
   "outputs": [
    {
     "data": {
      "text/plain": [
       "DecisionTreeClassifier()"
      ]
     },
     "execution_count": 48,
     "metadata": {},
     "output_type": "execute_result"
    }
   ],
   "source": [
    "model = DecisionTreeClassifier()\n",
    "model.fit(X_train, y_train)"
   ]
  },
  {
   "cell_type": "code",
   "execution_count": 49,
   "metadata": {},
   "outputs": [
    {
     "data": {
      "text/plain": [
       "array([0, 1, 1, 0])"
      ]
     },
     "execution_count": 49,
     "metadata": {},
     "output_type": "execute_result"
    }
   ],
   "source": [
    "y_predict = model.predict(X_test)\n",
    "y_predict"
   ]
  },
  {
   "cell_type": "code",
   "execution_count": 50,
   "metadata": {},
   "outputs": [
    {
     "data": {
      "text/plain": [
       "array([0, 1, 1, 0])"
      ]
     },
     "execution_count": 50,
     "metadata": {},
     "output_type": "execute_result"
    }
   ],
   "source": [
    "y_test"
   ]
  },
  {
   "cell_type": "code",
   "execution_count": 51,
   "metadata": {},
   "outputs": [
    {
     "name": "stdout",
     "output_type": "stream",
     "text": [
      "Accuracy %: 100.00\n"
     ]
    }
   ],
   "source": [
    "print('Accuracy %: {:.2f}'.format(accuracy_score(y_test, y_predict) * 100))"
   ]
  },
  {
   "cell_type": "code",
   "execution_count": null,
   "metadata": {},
   "outputs": [],
   "source": []
  }
 ],
 "metadata": {
  "kernelspec": {
   "display_name": "Python 3",
   "language": "python",
   "name": "python3"
  },
  "language_info": {
   "codemirror_mode": {
    "name": "ipython",
    "version": 3
   },
   "file_extension": ".py",
   "mimetype": "text/x-python",
   "name": "python",
   "nbconvert_exporter": "python",
   "pygments_lexer": "ipython3",
   "version": "3.8.5"
  }
 },
 "nbformat": 4,
 "nbformat_minor": 4
}
